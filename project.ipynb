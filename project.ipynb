{
 "cells": [
  {
   "cell_type": "markdown",
   "id": "81d2c616",
   "metadata": {},
   "source": [
    "# Predizione del Successo di Progetti Kickstarter\n",
    "\n",
    "## Contesto e obiettivo\n",
    "\n",
    "Kickstarter è una delle principali piattaforme di crowdfunding, dove creatori di progetti possono raccogliere fondi per realizzare idee innovative. L’interesse verso il crowdfunding è nato dopo aver scoperto il caso di Star Citizen, uno dei progetti più finanziati nella storia di Kickstarter (e ancora oggi in fase di sviluppo). Tuttavia, non tutti i progetti raggiungono il proprio obiettivo di finanziamento.  \n",
    "L’obiettivo di questo progetto è costruire un modello predittivo che, dati i parametri di un nuovo progetto, stimi se la campagna avrà successo (verrà finanziata) o meno.  \n",
    "Alla fine, sarà realizzata una web app che permetterà di inserire le caratteristiche di una proposta e ricevere una previsione, con eventuali suggerimenti di modifica.\n",
    "\n",
    "## Fonte e struttura del dataset\n",
    "\n",
    "Il dataset utilizzato è [Kickstarter Projects](https://www.kaggle.com/datasets/kemical/kickstarter-projects), scaricato da Kaggle.  \n",
    "`ks-projects-201801.csv` contiene informazioni su oltre 300.000 progetti lanciati su Kickstarter fino al 2018.\n",
    "\n",
    "### Variabili principali del dataset\n",
    "\n",
    "- `ID`: identificatore univoco del progetto\n",
    "- `name`: nome del progetto\n",
    "- `category`: categoria del progetto\n",
    "- `main_category`: macro-categoria\n",
    "- `currency`: valuta utilizzata\n",
    "- `deadline`: data di scadenza della campagna\n",
    "- `goal`: obiettivo di raccolta fondi\n",
    "- `launched`: data di lancio\n",
    "- `pledged`: fondi raccolti\n",
    "- `state`: stato finale del progetto (success, failed, canceled, ecc.)\n",
    "- `backers`: numero di sostenitori\n",
    "- `country`: paese di origine\n",
    "- `usd_pledged`: conversione in dollari americani della colonna pledged (conversione effettuata da Kickstarter)\n",
    "- `usd_pledged_real`: conversione in dollari americani della colonna pledged (conversione effettuata tramite API Fixer.io)\n",
    "- `usd_goal_real`: conversione in dollari americani della colonna goal (conversione effettuata tramite API Fixer.io)"
   ]
  },
  {
   "cell_type": "code",
   "execution_count": 1,
   "id": "454b3f3d",
   "metadata": {},
   "outputs": [
    {
     "data": {
      "text/html": [
       "<div>\n",
       "<style scoped>\n",
       "    .dataframe tbody tr th:only-of-type {\n",
       "        vertical-align: middle;\n",
       "    }\n",
       "\n",
       "    .dataframe tbody tr th {\n",
       "        vertical-align: top;\n",
       "    }\n",
       "\n",
       "    .dataframe thead th {\n",
       "        text-align: right;\n",
       "    }\n",
       "</style>\n",
       "<table border=\"1\" class=\"dataframe\">\n",
       "  <thead>\n",
       "    <tr style=\"text-align: right;\">\n",
       "      <th></th>\n",
       "      <th>ID</th>\n",
       "      <th>name</th>\n",
       "      <th>category</th>\n",
       "      <th>main_category</th>\n",
       "      <th>currency</th>\n",
       "      <th>deadline</th>\n",
       "      <th>goal</th>\n",
       "      <th>launched</th>\n",
       "      <th>pledged</th>\n",
       "      <th>state</th>\n",
       "      <th>backers</th>\n",
       "      <th>country</th>\n",
       "      <th>usd pledged</th>\n",
       "      <th>usd_pledged_real</th>\n",
       "      <th>usd_goal_real</th>\n",
       "    </tr>\n",
       "  </thead>\n",
       "  <tbody>\n",
       "    <tr>\n",
       "      <th>0</th>\n",
       "      <td>1000002330</td>\n",
       "      <td>The Songs of Adelaide &amp; Abullah</td>\n",
       "      <td>Poetry</td>\n",
       "      <td>Publishing</td>\n",
       "      <td>GBP</td>\n",
       "      <td>2015-10-09</td>\n",
       "      <td>1000.0</td>\n",
       "      <td>2015-08-11 12:12:28</td>\n",
       "      <td>0.0</td>\n",
       "      <td>failed</td>\n",
       "      <td>0</td>\n",
       "      <td>GB</td>\n",
       "      <td>0.0</td>\n",
       "      <td>0.0</td>\n",
       "      <td>1533.95</td>\n",
       "    </tr>\n",
       "    <tr>\n",
       "      <th>1</th>\n",
       "      <td>1000003930</td>\n",
       "      <td>Greeting From Earth: ZGAC Arts Capsule For ET</td>\n",
       "      <td>Narrative Film</td>\n",
       "      <td>Film &amp; Video</td>\n",
       "      <td>USD</td>\n",
       "      <td>2017-11-01</td>\n",
       "      <td>30000.0</td>\n",
       "      <td>2017-09-02 04:43:57</td>\n",
       "      <td>2421.0</td>\n",
       "      <td>failed</td>\n",
       "      <td>15</td>\n",
       "      <td>US</td>\n",
       "      <td>100.0</td>\n",
       "      <td>2421.0</td>\n",
       "      <td>30000.00</td>\n",
       "    </tr>\n",
       "    <tr>\n",
       "      <th>2</th>\n",
       "      <td>1000004038</td>\n",
       "      <td>Where is Hank?</td>\n",
       "      <td>Narrative Film</td>\n",
       "      <td>Film &amp; Video</td>\n",
       "      <td>USD</td>\n",
       "      <td>2013-02-26</td>\n",
       "      <td>45000.0</td>\n",
       "      <td>2013-01-12 00:20:50</td>\n",
       "      <td>220.0</td>\n",
       "      <td>failed</td>\n",
       "      <td>3</td>\n",
       "      <td>US</td>\n",
       "      <td>220.0</td>\n",
       "      <td>220.0</td>\n",
       "      <td>45000.00</td>\n",
       "    </tr>\n",
       "    <tr>\n",
       "      <th>3</th>\n",
       "      <td>1000007540</td>\n",
       "      <td>ToshiCapital Rekordz Needs Help to Complete Album</td>\n",
       "      <td>Music</td>\n",
       "      <td>Music</td>\n",
       "      <td>USD</td>\n",
       "      <td>2012-04-16</td>\n",
       "      <td>5000.0</td>\n",
       "      <td>2012-03-17 03:24:11</td>\n",
       "      <td>1.0</td>\n",
       "      <td>failed</td>\n",
       "      <td>1</td>\n",
       "      <td>US</td>\n",
       "      <td>1.0</td>\n",
       "      <td>1.0</td>\n",
       "      <td>5000.00</td>\n",
       "    </tr>\n",
       "    <tr>\n",
       "      <th>4</th>\n",
       "      <td>1000011046</td>\n",
       "      <td>Community Film Project: The Art of Neighborhoo...</td>\n",
       "      <td>Film &amp; Video</td>\n",
       "      <td>Film &amp; Video</td>\n",
       "      <td>USD</td>\n",
       "      <td>2015-08-29</td>\n",
       "      <td>19500.0</td>\n",
       "      <td>2015-07-04 08:35:03</td>\n",
       "      <td>1283.0</td>\n",
       "      <td>canceled</td>\n",
       "      <td>14</td>\n",
       "      <td>US</td>\n",
       "      <td>1283.0</td>\n",
       "      <td>1283.0</td>\n",
       "      <td>19500.00</td>\n",
       "    </tr>\n",
       "  </tbody>\n",
       "</table>\n",
       "</div>"
      ],
      "text/plain": [
       "           ID                                               name  \\\n",
       "0  1000002330                    The Songs of Adelaide & Abullah   \n",
       "1  1000003930      Greeting From Earth: ZGAC Arts Capsule For ET   \n",
       "2  1000004038                                     Where is Hank?   \n",
       "3  1000007540  ToshiCapital Rekordz Needs Help to Complete Album   \n",
       "4  1000011046  Community Film Project: The Art of Neighborhoo...   \n",
       "\n",
       "         category main_category currency    deadline     goal  \\\n",
       "0          Poetry    Publishing      GBP  2015-10-09   1000.0   \n",
       "1  Narrative Film  Film & Video      USD  2017-11-01  30000.0   \n",
       "2  Narrative Film  Film & Video      USD  2013-02-26  45000.0   \n",
       "3           Music         Music      USD  2012-04-16   5000.0   \n",
       "4    Film & Video  Film & Video      USD  2015-08-29  19500.0   \n",
       "\n",
       "              launched  pledged     state  backers country  usd pledged  \\\n",
       "0  2015-08-11 12:12:28      0.0    failed        0      GB          0.0   \n",
       "1  2017-09-02 04:43:57   2421.0    failed       15      US        100.0   \n",
       "2  2013-01-12 00:20:50    220.0    failed        3      US        220.0   \n",
       "3  2012-03-17 03:24:11      1.0    failed        1      US          1.0   \n",
       "4  2015-07-04 08:35:03   1283.0  canceled       14      US       1283.0   \n",
       "\n",
       "   usd_pledged_real  usd_goal_real  \n",
       "0               0.0        1533.95  \n",
       "1            2421.0       30000.00  \n",
       "2             220.0       45000.00  \n",
       "3               1.0        5000.00  \n",
       "4            1283.0       19500.00  "
      ]
     },
     "execution_count": 1,
     "metadata": {},
     "output_type": "execute_result"
    }
   ],
   "source": [
    "import numpy as np\n",
    "import pandas as pd\n",
    "import matplotlib.pyplot as plt\n",
    "\n",
    "file_path = \"data/ks-projects-201801.csv\"\n",
    "kickstarter_data = pd.read_csv(file_path)\n",
    "kickstarter_data.head()"
   ]
  },
  {
   "cell_type": "markdown",
   "id": "4c9ae47d",
   "metadata": {},
   "source": [
    "## Scrematura e rielaborazione delle variabili\n",
    "\n",
    "In questa sezione vengono selezionate e rielaborate le variabili del dataset da utilizzare per l’addestramento del modello predittivo.  \n",
    "L’obiettivo è mantenere solo le informazioni disponibili prima del lancio della campagna, eliminando variabili non informative (come identificativi) o non utilizzabili in fase predittiva (come i risultati effettivi della raccolta fondi).\n",
    "\n",
    "Inoltre, vengono create nuove feature derivate dalle date (`duration_days`, `launch_month`, `launch_year`, `deadline_month`, `deadline_year`) per fornire al modello informazioni aggiuntive sulla tempistica della campagna."
   ]
  },
  {
   "cell_type": "code",
   "execution_count": 2,
   "id": "a7b7ff82",
   "metadata": {},
   "outputs": [
    {
     "data": {
      "text/html": [
       "<div>\n",
       "<style scoped>\n",
       "    .dataframe tbody tr th:only-of-type {\n",
       "        vertical-align: middle;\n",
       "    }\n",
       "\n",
       "    .dataframe tbody tr th {\n",
       "        vertical-align: top;\n",
       "    }\n",
       "\n",
       "    .dataframe thead th {\n",
       "        text-align: right;\n",
       "    }\n",
       "</style>\n",
       "<table border=\"1\" class=\"dataframe\">\n",
       "  <thead>\n",
       "    <tr style=\"text-align: right;\">\n",
       "      <th></th>\n",
       "      <th>name</th>\n",
       "      <th>category</th>\n",
       "      <th>main_category</th>\n",
       "      <th>currency</th>\n",
       "      <th>deadline</th>\n",
       "      <th>goal</th>\n",
       "      <th>launched</th>\n",
       "      <th>state</th>\n",
       "      <th>country</th>\n",
       "      <th>usd_goal_real</th>\n",
       "      <th>duration_days</th>\n",
       "      <th>launch_month</th>\n",
       "      <th>launch_year</th>\n",
       "      <th>deadline_month</th>\n",
       "      <th>deadline_year</th>\n",
       "    </tr>\n",
       "  </thead>\n",
       "  <tbody>\n",
       "    <tr>\n",
       "      <th>0</th>\n",
       "      <td>The Songs of Adelaide &amp; Abullah</td>\n",
       "      <td>Poetry</td>\n",
       "      <td>Publishing</td>\n",
       "      <td>GBP</td>\n",
       "      <td>2015-10-09</td>\n",
       "      <td>1000.0</td>\n",
       "      <td>2015-08-11 12:12:28</td>\n",
       "      <td>failed</td>\n",
       "      <td>GB</td>\n",
       "      <td>1533.95</td>\n",
       "      <td>58</td>\n",
       "      <td>8</td>\n",
       "      <td>2015</td>\n",
       "      <td>10</td>\n",
       "      <td>2015</td>\n",
       "    </tr>\n",
       "    <tr>\n",
       "      <th>1</th>\n",
       "      <td>Greeting From Earth: ZGAC Arts Capsule For ET</td>\n",
       "      <td>Narrative Film</td>\n",
       "      <td>Film &amp; Video</td>\n",
       "      <td>USD</td>\n",
       "      <td>2017-11-01</td>\n",
       "      <td>30000.0</td>\n",
       "      <td>2017-09-02 04:43:57</td>\n",
       "      <td>failed</td>\n",
       "      <td>US</td>\n",
       "      <td>30000.00</td>\n",
       "      <td>59</td>\n",
       "      <td>9</td>\n",
       "      <td>2017</td>\n",
       "      <td>11</td>\n",
       "      <td>2017</td>\n",
       "    </tr>\n",
       "    <tr>\n",
       "      <th>2</th>\n",
       "      <td>Where is Hank?</td>\n",
       "      <td>Narrative Film</td>\n",
       "      <td>Film &amp; Video</td>\n",
       "      <td>USD</td>\n",
       "      <td>2013-02-26</td>\n",
       "      <td>45000.0</td>\n",
       "      <td>2013-01-12 00:20:50</td>\n",
       "      <td>failed</td>\n",
       "      <td>US</td>\n",
       "      <td>45000.00</td>\n",
       "      <td>44</td>\n",
       "      <td>1</td>\n",
       "      <td>2013</td>\n",
       "      <td>2</td>\n",
       "      <td>2013</td>\n",
       "    </tr>\n",
       "    <tr>\n",
       "      <th>3</th>\n",
       "      <td>ToshiCapital Rekordz Needs Help to Complete Album</td>\n",
       "      <td>Music</td>\n",
       "      <td>Music</td>\n",
       "      <td>USD</td>\n",
       "      <td>2012-04-16</td>\n",
       "      <td>5000.0</td>\n",
       "      <td>2012-03-17 03:24:11</td>\n",
       "      <td>failed</td>\n",
       "      <td>US</td>\n",
       "      <td>5000.00</td>\n",
       "      <td>29</td>\n",
       "      <td>3</td>\n",
       "      <td>2012</td>\n",
       "      <td>4</td>\n",
       "      <td>2012</td>\n",
       "    </tr>\n",
       "    <tr>\n",
       "      <th>4</th>\n",
       "      <td>Community Film Project: The Art of Neighborhoo...</td>\n",
       "      <td>Film &amp; Video</td>\n",
       "      <td>Film &amp; Video</td>\n",
       "      <td>USD</td>\n",
       "      <td>2015-08-29</td>\n",
       "      <td>19500.0</td>\n",
       "      <td>2015-07-04 08:35:03</td>\n",
       "      <td>canceled</td>\n",
       "      <td>US</td>\n",
       "      <td>19500.00</td>\n",
       "      <td>55</td>\n",
       "      <td>7</td>\n",
       "      <td>2015</td>\n",
       "      <td>8</td>\n",
       "      <td>2015</td>\n",
       "    </tr>\n",
       "  </tbody>\n",
       "</table>\n",
       "</div>"
      ],
      "text/plain": [
       "                                                name        category  \\\n",
       "0                    The Songs of Adelaide & Abullah          Poetry   \n",
       "1      Greeting From Earth: ZGAC Arts Capsule For ET  Narrative Film   \n",
       "2                                     Where is Hank?  Narrative Film   \n",
       "3  ToshiCapital Rekordz Needs Help to Complete Album           Music   \n",
       "4  Community Film Project: The Art of Neighborhoo...    Film & Video   \n",
       "\n",
       "  main_category currency   deadline     goal            launched     state  \\\n",
       "0    Publishing      GBP 2015-10-09   1000.0 2015-08-11 12:12:28    failed   \n",
       "1  Film & Video      USD 2017-11-01  30000.0 2017-09-02 04:43:57    failed   \n",
       "2  Film & Video      USD 2013-02-26  45000.0 2013-01-12 00:20:50    failed   \n",
       "3         Music      USD 2012-04-16   5000.0 2012-03-17 03:24:11    failed   \n",
       "4  Film & Video      USD 2015-08-29  19500.0 2015-07-04 08:35:03  canceled   \n",
       "\n",
       "  country  usd_goal_real  duration_days  launch_month  launch_year  \\\n",
       "0      GB        1533.95             58             8         2015   \n",
       "1      US       30000.00             59             9         2017   \n",
       "2      US       45000.00             44             1         2013   \n",
       "3      US        5000.00             29             3         2012   \n",
       "4      US       19500.00             55             7         2015   \n",
       "\n",
       "   deadline_month  deadline_year  \n",
       "0              10           2015  \n",
       "1              11           2017  \n",
       "2               2           2013  \n",
       "3               4           2012  \n",
       "4               8           2015  "
      ]
     },
     "execution_count": 2,
     "metadata": {},
     "output_type": "execute_result"
    }
   ],
   "source": [
    "kickstarter_data = kickstarter_data.drop(columns=[\"ID\", \"pledged\", \"usd pledged\", \"usd_pledged_real\", \"backers\"])\n",
    "\n",
    "kickstarter_data['launched'] = pd.to_datetime(kickstarter_data['launched'])\n",
    "kickstarter_data['deadline'] = pd.to_datetime(kickstarter_data['deadline'])\n",
    "kickstarter_data['duration_days'] = (kickstarter_data['deadline'] - kickstarter_data['launched']).dt.days\n",
    "\n",
    "kickstarter_data['launch_month'] = kickstarter_data['launched'].dt.month\n",
    "kickstarter_data['launch_year'] = kickstarter_data['launched'].dt.year\n",
    "\n",
    "kickstarter_data['deadline_month'] = kickstarter_data['deadline'].dt.month\n",
    "kickstarter_data['deadline_year'] = kickstarter_data['deadline'].dt.year\n",
    "\n",
    "kickstarter_data.head()"
   ]
  },
  {
   "cell_type": "markdown",
   "id": "a065893b",
   "metadata": {},
   "source": [
    "## Analisi esplorativa del dataset\n",
    "\n",
    "In questa sezione vengono analizzate le principali caratteristiche statistiche, la distribuzione delle variabili del dataset, e le correlazioni tra quest'ultime. I risultati guideranno eventuali scelte di filtraggio o trasformazione dei dati."
   ]
  },
  {
   "cell_type": "code",
   "execution_count": 3,
   "id": "4ddbba49",
   "metadata": {},
   "outputs": [
    {
     "data": {
      "text/html": [
       "<div>\n",
       "<style scoped>\n",
       "    .dataframe tbody tr th:only-of-type {\n",
       "        vertical-align: middle;\n",
       "    }\n",
       "\n",
       "    .dataframe tbody tr th {\n",
       "        vertical-align: top;\n",
       "    }\n",
       "\n",
       "    .dataframe thead th {\n",
       "        text-align: right;\n",
       "    }\n",
       "</style>\n",
       "<table border=\"1\" class=\"dataframe\">\n",
       "  <thead>\n",
       "    <tr style=\"text-align: right;\">\n",
       "      <th></th>\n",
       "      <th>deadline</th>\n",
       "      <th>goal</th>\n",
       "      <th>launched</th>\n",
       "      <th>usd_goal_real</th>\n",
       "      <th>duration_days</th>\n",
       "      <th>launch_month</th>\n",
       "      <th>launch_year</th>\n",
       "      <th>deadline_month</th>\n",
       "      <th>deadline_year</th>\n",
       "    </tr>\n",
       "  </thead>\n",
       "  <tbody>\n",
       "    <tr>\n",
       "      <th>count</th>\n",
       "      <td>378661</td>\n",
       "      <td>3.786610e+05</td>\n",
       "      <td>378661</td>\n",
       "      <td>3.786610e+05</td>\n",
       "      <td>378661.000000</td>\n",
       "      <td>378661.000000</td>\n",
       "      <td>378661.000000</td>\n",
       "      <td>378661.000000</td>\n",
       "      <td>378661.000000</td>\n",
       "    </tr>\n",
       "    <tr>\n",
       "      <th>mean</th>\n",
       "      <td>2014-11-01 16:04:27.950488832</td>\n",
       "      <td>4.908079e+04</td>\n",
       "      <td>2014-09-28 18:06:17.416520448</td>\n",
       "      <td>4.545440e+04</td>\n",
       "      <td>33.481122</td>\n",
       "      <td>6.461550</td>\n",
       "      <td>2014.247829</td>\n",
       "      <td>6.720726</td>\n",
       "      <td>2014.320698</td>\n",
       "    </tr>\n",
       "    <tr>\n",
       "      <th>min</th>\n",
       "      <td>2009-05-03 00:00:00</td>\n",
       "      <td>1.000000e-02</td>\n",
       "      <td>1970-01-01 01:00:00</td>\n",
       "      <td>1.000000e-02</td>\n",
       "      <td>0.000000</td>\n",
       "      <td>1.000000</td>\n",
       "      <td>1970.000000</td>\n",
       "      <td>1.000000</td>\n",
       "      <td>2009.000000</td>\n",
       "    </tr>\n",
       "    <tr>\n",
       "      <th>25%</th>\n",
       "      <td>2013-06-08 00:00:00</td>\n",
       "      <td>2.000000e+03</td>\n",
       "      <td>2013-05-07 22:14:27</td>\n",
       "      <td>2.000000e+03</td>\n",
       "      <td>29.000000</td>\n",
       "      <td>4.000000</td>\n",
       "      <td>2013.000000</td>\n",
       "      <td>4.000000</td>\n",
       "      <td>2013.000000</td>\n",
       "    </tr>\n",
       "    <tr>\n",
       "      <th>50%</th>\n",
       "      <td>2015-01-14 00:00:00</td>\n",
       "      <td>5.200000e+03</td>\n",
       "      <td>2014-12-10 03:23:41</td>\n",
       "      <td>5.500000e+03</td>\n",
       "      <td>29.000000</td>\n",
       "      <td>7.000000</td>\n",
       "      <td>2014.000000</td>\n",
       "      <td>7.000000</td>\n",
       "      <td>2015.000000</td>\n",
       "    </tr>\n",
       "    <tr>\n",
       "      <th>75%</th>\n",
       "      <td>2016-04-28 00:00:00</td>\n",
       "      <td>1.600000e+04</td>\n",
       "      <td>2016-03-24 10:21:09</td>\n",
       "      <td>1.550000e+04</td>\n",
       "      <td>36.000000</td>\n",
       "      <td>9.000000</td>\n",
       "      <td>2016.000000</td>\n",
       "      <td>10.000000</td>\n",
       "      <td>2016.000000</td>\n",
       "    </tr>\n",
       "    <tr>\n",
       "      <th>max</th>\n",
       "      <td>2018-03-03 00:00:00</td>\n",
       "      <td>1.000000e+08</td>\n",
       "      <td>2018-01-02 15:02:31</td>\n",
       "      <td>1.663614e+08</td>\n",
       "      <td>16738.000000</td>\n",
       "      <td>12.000000</td>\n",
       "      <td>2018.000000</td>\n",
       "      <td>12.000000</td>\n",
       "      <td>2018.000000</td>\n",
       "    </tr>\n",
       "    <tr>\n",
       "      <th>std</th>\n",
       "      <td>NaN</td>\n",
       "      <td>1.183391e+06</td>\n",
       "      <td>NaN</td>\n",
       "      <td>1.152950e+06</td>\n",
       "      <td>65.909172</td>\n",
       "      <td>3.330133</td>\n",
       "      <td>1.933293</td>\n",
       "      <td>3.342550</td>\n",
       "      <td>1.924450</td>\n",
       "    </tr>\n",
       "  </tbody>\n",
       "</table>\n",
       "</div>"
      ],
      "text/plain": [
       "                            deadline          goal  \\\n",
       "count                         378661  3.786610e+05   \n",
       "mean   2014-11-01 16:04:27.950488832  4.908079e+04   \n",
       "min              2009-05-03 00:00:00  1.000000e-02   \n",
       "25%              2013-06-08 00:00:00  2.000000e+03   \n",
       "50%              2015-01-14 00:00:00  5.200000e+03   \n",
       "75%              2016-04-28 00:00:00  1.600000e+04   \n",
       "max              2018-03-03 00:00:00  1.000000e+08   \n",
       "std                              NaN  1.183391e+06   \n",
       "\n",
       "                            launched  usd_goal_real  duration_days  \\\n",
       "count                         378661   3.786610e+05  378661.000000   \n",
       "mean   2014-09-28 18:06:17.416520448   4.545440e+04      33.481122   \n",
       "min              1970-01-01 01:00:00   1.000000e-02       0.000000   \n",
       "25%              2013-05-07 22:14:27   2.000000e+03      29.000000   \n",
       "50%              2014-12-10 03:23:41   5.500000e+03      29.000000   \n",
       "75%              2016-03-24 10:21:09   1.550000e+04      36.000000   \n",
       "max              2018-01-02 15:02:31   1.663614e+08   16738.000000   \n",
       "std                              NaN   1.152950e+06      65.909172   \n",
       "\n",
       "        launch_month    launch_year  deadline_month  deadline_year  \n",
       "count  378661.000000  378661.000000   378661.000000  378661.000000  \n",
       "mean        6.461550    2014.247829        6.720726    2014.320698  \n",
       "min         1.000000    1970.000000        1.000000    2009.000000  \n",
       "25%         4.000000    2013.000000        4.000000    2013.000000  \n",
       "50%         7.000000    2014.000000        7.000000    2015.000000  \n",
       "75%         9.000000    2016.000000       10.000000    2016.000000  \n",
       "max        12.000000    2018.000000       12.000000    2018.000000  \n",
       "std         3.330133       1.933293        3.342550       1.924450  "
      ]
     },
     "execution_count": 3,
     "metadata": {},
     "output_type": "execute_result"
    }
   ],
   "source": [
    "kickstarter_data.describe()"
   ]
  },
  {
   "cell_type": "markdown",
   "id": "18f359aa",
   "metadata": {},
   "source": [
    "Le statistiche descrittive mostrano media, quartili, minimi, massimi e possibili outlier nelle variabili numeriche.  \n",
    "Dalla tabella si osserva che:\n",
    "\n",
    "- **Obiettivo di raccolta (`goal`, `usd_goal_real`)**: la media è molto superiore alla mediana (50% = 5.2k USD, media ≈ 45k USD), segno di una distribuzione fortemente asimmetrica e della presenza di outlier (progetti con obiettivi estremamente elevati). Il valore massimo raggiunge i 100 milioni di dollari.\n",
    "- **Durata delle campagne (`duration_days`)**: la maggior parte delle campagne dura circa 29-36 giorni (25°-75° percentile), ma esistono campagne con durate anomale fino a oltre 16.000 giorni, probabilmente errori o casi particolari.\n",
    "- **Date di lancio e scadenza**: i valori minimi e massimi delle date coprono un ampio intervallo temporale (dal 1970 al 2018), ma i valori minimi anomali (es. 1970) suggeriscono la presenza di dati errati o placeholder.\n",
    "- **Variabili temporali (`launch_month`, `deadline_month`, `launch_year`, `deadline_year`)**: la distribuzione è abbastanza uniforme, ma la presenza di anni e mesi fuori dal range atteso può indicare errori di inserimento o progetti test.\n",
    "\n",
    "L’analisi statistica preliminare, quindi, non solo fornisce un quadro generale del dataset, ma guida anche le scelte di pulizia e preprocessing necessarie per una modellazione affidabile."
   ]
  },
  {
   "cell_type": "code",
   "execution_count": 4,
   "id": "4ee224c3",
   "metadata": {},
   "outputs": [
    {
     "data": {
      "text/html": [
       "<div>\n",
       "<style scoped>\n",
       "    .dataframe tbody tr th:only-of-type {\n",
       "        vertical-align: middle;\n",
       "    }\n",
       "\n",
       "    .dataframe tbody tr th {\n",
       "        vertical-align: top;\n",
       "    }\n",
       "\n",
       "    .dataframe thead th {\n",
       "        text-align: right;\n",
       "    }\n",
       "</style>\n",
       "<table border=\"1\" class=\"dataframe\">\n",
       "  <thead>\n",
       "    <tr style=\"text-align: right;\">\n",
       "      <th></th>\n",
       "      <th>name</th>\n",
       "      <th>category</th>\n",
       "      <th>main_category</th>\n",
       "      <th>currency</th>\n",
       "      <th>state</th>\n",
       "      <th>country</th>\n",
       "    </tr>\n",
       "  </thead>\n",
       "  <tbody>\n",
       "    <tr>\n",
       "      <th>count</th>\n",
       "      <td>378657</td>\n",
       "      <td>378661</td>\n",
       "      <td>378661</td>\n",
       "      <td>378661</td>\n",
       "      <td>378661</td>\n",
       "      <td>378661</td>\n",
       "    </tr>\n",
       "    <tr>\n",
       "      <th>unique</th>\n",
       "      <td>375764</td>\n",
       "      <td>159</td>\n",
       "      <td>15</td>\n",
       "      <td>14</td>\n",
       "      <td>6</td>\n",
       "      <td>23</td>\n",
       "    </tr>\n",
       "    <tr>\n",
       "      <th>top</th>\n",
       "      <td>New EP/Music Development</td>\n",
       "      <td>Product Design</td>\n",
       "      <td>Film &amp; Video</td>\n",
       "      <td>USD</td>\n",
       "      <td>failed</td>\n",
       "      <td>US</td>\n",
       "    </tr>\n",
       "    <tr>\n",
       "      <th>freq</th>\n",
       "      <td>41</td>\n",
       "      <td>22314</td>\n",
       "      <td>63585</td>\n",
       "      <td>295365</td>\n",
       "      <td>197719</td>\n",
       "      <td>292627</td>\n",
       "    </tr>\n",
       "  </tbody>\n",
       "</table>\n",
       "</div>"
      ],
      "text/plain": [
       "                            name        category main_category currency  \\\n",
       "count                     378657          378661        378661   378661   \n",
       "unique                    375764             159            15       14   \n",
       "top     New EP/Music Development  Product Design  Film & Video      USD   \n",
       "freq                          41           22314         63585   295365   \n",
       "\n",
       "         state country  \n",
       "count   378661  378661  \n",
       "unique       6      23  \n",
       "top     failed      US  \n",
       "freq    197719  292627  "
      ]
     },
     "execution_count": 4,
     "metadata": {},
     "output_type": "execute_result"
    }
   ],
   "source": [
    "kickstarter_data.describe(include='object')"
   ]
  },
  {
   "cell_type": "markdown",
   "id": "5dc62051",
   "metadata": {},
   "source": [
    "Le variabili categoriche presentano una buona varietà di valori distinti."
   ]
  },
  {
   "cell_type": "code",
   "execution_count": 5,
   "id": "08abb0c9",
   "metadata": {},
   "outputs": [
    {
     "data": {
      "text/plain": [
       "name              375764\n",
       "category             159\n",
       "main_category         15\n",
       "currency              14\n",
       "deadline            3164\n",
       "goal                8353\n",
       "launched          378089\n",
       "state                  6\n",
       "country               23\n",
       "usd_goal_real      50339\n",
       "duration_days         99\n",
       "launch_month          12\n",
       "launch_year           11\n",
       "deadline_month        12\n",
       "deadline_year         10\n",
       "dtype: int64"
      ]
     },
     "execution_count": 5,
     "metadata": {},
     "output_type": "execute_result"
    }
   ],
   "source": [
    "kickstarter_data.nunique()"
   ]
  },
  {
   "cell_type": "markdown",
   "id": "ed8bc121",
   "metadata": {},
   "source": [
    "Il conteggio dei valori distinti aiuta a identificare feature con bassa variabilità o potenzialmente inutili."
   ]
  },
  {
   "cell_type": "code",
   "execution_count": 6,
   "id": "64ad29f5",
   "metadata": {},
   "outputs": [
    {
     "data": {
      "image/png": "[encoded data removed]",
      "text/plain": [
       "<Figure size 640x480 with 1 Axes>"
      ]
     },
     "metadata": {},
     "output_type": "display_data"
    }
   ],
   "source": [
    "# Distribuzione della variabile target (state)\n",
    "kickstarter_data['state'].value_counts(normalize=True).plot.pie(autopct='%1.1f%%', ylabel='', title='Distribuzione esiti campagne')\n",
    "plt.show()"
   ]
  },
  {
   "cell_type": "markdown",
   "id": "30a22e69",
   "metadata": {},
   "source": [
    "### Distribuzione della variabile target (`state`)\n",
    "\n",
    "**Osservazione:** La maggior parte delle campagne non raggiunge l’obiettivo di finanziamento (`failed`), mentre solo una minoranza ha successo (`successful`).  \n",
    "**Implicazione:** Il dataset è sbilanciato. Questo sbilanciamento dovrà essere gestito nelle fasi successive (ad esempio tramite tecniche di bilanciamento, scelta di metriche adeguate o ponderazione delle classi) per evitare che il modello sia troppo “conservativo” e tenda a predire sempre la classe maggioritaria."
   ]
  },
  {
   "cell_type": "code",
   "execution_count": 7,
   "id": "428877c4",
   "metadata": {},
   "outputs": [
    {
     "data": {
      "image/png": "[encoded data removed]",
      "text/plain": [
       "<Figure size 640x480 with 1 Axes>"
      ]
     },
     "metadata": {},
     "output_type": "display_data"
    }
   ],
   "source": [
    "# Istogramma della durata delle campagne\n",
    "kickstarter_data['duration_days'].plot.hist(bins=30, range=(0, 100))\n",
    "plt.xlabel('Durata campagna (giorni)')\n",
    "plt.ylabel('Numero di progetti')\n",
    "plt.title('Distribuzione durata campagne')\n",
    "plt.show()"
   ]
  },
  {
   "cell_type": "markdown",
   "id": "057afa3f",
   "metadata": {},
   "source": [
    "### Istogramma della durata delle campagne (`duration_days`)\n",
    "\n",
    "**Osservazione:** La durata standard di una campagna Kickstarter è circa 30 giorni, ma esistono campagne con durate fuori dal comune.  \n",
    "**Implicazione:** Potrebbe essere utile filtrare o trattare come outlier le campagne con durata estremamente breve o lunga, in quanto potrebbero rappresentare errori o casi particolari non generalizzabili."
   ]
  },
  {
   "cell_type": "code",
   "execution_count": 8,
   "id": "f882024e",
   "metadata": {},
   "outputs": [
    {
     "data": {
      "image/png": "[encoded data removed]",
      "text/plain": [
       "<Figure size 640x480 with 1 Axes>"
      ]
     },
     "metadata": {},
     "output_type": "display_data"
    }
   ],
   "source": [
    "# Istogramma degli obiettivi di raccolta (usd_goal_real)\n",
    "kickstarter_data['usd_goal_real'].plot.hist(bins=50, range=(0, 50000))\n",
    "plt.xlabel('Obiettivo raccolta (USD)')\n",
    "plt.ylabel('Numero di progetti')\n",
    "plt.title('Distribuzione obiettivi di raccolta (fino a 50k USD)')\n",
    "plt.show()"
   ]
  },
  {
   "cell_type": "markdown",
   "id": "f16a43d2",
   "metadata": {},
   "source": [
    "### Istogramma degli obiettivi di raccolta (`usd_goal_real`)\n",
    "\n",
    "**Osservazione:** La distribuzione è fortemente asimmetrica (right-skewed), con una lunga coda di progetti ambiziosi.  \n",
    "**Implicazione:** Gli outlier potrebbero influenzare negativamente l’addestramento del modello. Potrebbe essere opportuno applicare una trasformazione (ad esempio logaritmica) o escludere i valori estremi."
   ]
  },
  {
   "cell_type": "code",
   "execution_count": 9,
   "id": "a9833469",
   "metadata": {},
   "outputs": [
    {
     "data": {
      "image/png": "[encoded data removed]",
      "text/plain": [
       "<Figure size 640x480 with 1 Axes>"
      ]
     },
     "metadata": {},
     "output_type": "display_data"
    }
   ],
   "source": [
    "# Boxplot per individuare outlier negli obiettivi di raccolta\n",
    "kickstarter_data.boxplot(column='usd_goal_real')\n",
    "plt.yscale('log')\n",
    "plt.title('Boxplot obiettivi di raccolta (scala log)')\n",
    "plt.show()"
   ]
  },
  {
   "cell_type": "markdown",
   "id": "024a4724",
   "metadata": {},
   "source": [
    "### Boxplot degli obiettivi di raccolta\n",
    "\n",
    "**Osservazione:** La maggior parte dei progetti si concentra su obiettivi relativamente bassi, mentre pochi puntano a cifre molto elevate.  \n",
    "**Implicazione:** Anche qui, la presenza di outlier suggerisce la necessità di un trattamento specifico."
   ]
  },
  {
   "cell_type": "code",
   "execution_count": 10,
   "id": "241d632a",
   "metadata": {},
   "outputs": [
    {
     "data": {
      "image/png": "[encoded data removed]",
      "text/plain": [
       "<Figure size 640x480 with 2 Axes>"
      ]
     },
     "metadata": {},
     "output_type": "display_data"
    }
   ],
   "source": [
    "# Matrice di correlazione tra variabili numeriche\n",
    "import seaborn as sns\n",
    "corr = kickstarter_data[['goal', 'usd_goal_real', 'duration_days', 'launch_month', 'deadline_month']].corr()\n",
    "sns.heatmap(corr, annot=True, cmap='coolwarm')\n",
    "plt.title('Matrice di correlazione')\n",
    "plt.show()"
   ]
  },
  {
   "cell_type": "markdown",
   "id": "6ddcfef9",
   "metadata": {},
   "source": [
    "### Matrice di correlazione tra variabili numeriche\n",
    " \n",
    "**Osservazione:** Si nota una forte correlazione tra `goal` e `usd_goal_real` (atteso, dato che rappresentano lo stesso valore in valute diverse). Le altre variabili mostrano correlazioni deboli.  \n",
    "**Implicazione:** Potrebbe essere ridondante mantenere entrambe le colonne (`goal` e `usd_goal_real`); si può scegliere di tenere solo una delle due. La bassa correlazione tra le altre variabili suggerisce che ciascuna potrebbe apportare informazioni distinte al modello."
   ]
  },
  {
   "cell_type": "code",
   "execution_count": 11,
   "id": "b3b96e0a",
   "metadata": {},
   "outputs": [
    {
     "data": {
      "text/plain": [
       "name               True\n",
       "category          False\n",
       "main_category     False\n",
       "currency          False\n",
       "deadline          False\n",
       "goal              False\n",
       "launched          False\n",
       "state             False\n",
       "country           False\n",
       "usd_goal_real     False\n",
       "duration_days     False\n",
       "launch_month      False\n",
       "launch_year       False\n",
       "deadline_month    False\n",
       "deadline_year     False\n",
       "dtype: bool"
      ]
     },
     "execution_count": 11,
     "metadata": {},
     "output_type": "execute_result"
    }
   ],
   "source": [
    "kickstarter_data.isnull().any()"
   ]
  },
  {
   "cell_type": "code",
   "execution_count": 12,
   "id": "08b16d51",
   "metadata": {},
   "outputs": [
    {
     "data": {
      "text/plain": [
       "name              4\n",
       "category          0\n",
       "main_category     0\n",
       "currency          0\n",
       "deadline          0\n",
       "goal              0\n",
       "launched          0\n",
       "state             0\n",
       "country           0\n",
       "usd_goal_real     0\n",
       "duration_days     0\n",
       "launch_month      0\n",
       "launch_year       0\n",
       "deadline_month    0\n",
       "deadline_year     0\n",
       "dtype: int64"
      ]
     },
     "execution_count": 12,
     "metadata": {},
     "output_type": "execute_result"
    }
   ],
   "source": [
    "kickstarter_data.isnull().sum()"
   ]
  },
  {
   "cell_type": "markdown",
   "id": "c3d8b5fe",
   "metadata": {},
   "source": [
    "### Gestione dei valori nulli\n",
    "\n",
    "Il controllo dei valori nulli evidenzia che quasi tutte le variabili sono complete, ad eccezione della colonna `name`.  \n",
    "Di conseguenza, essendo poche, scelgo di rimuovere le righe in cui sono presenti in modo da mantenere un dataset pulito, senza una perdita di dati significativi"
   ]
  },
  {
   "cell_type": "code",
   "execution_count": 13,
   "id": "a9af53b6",
   "metadata": {},
   "outputs": [],
   "source": [
    "kickstarter_data_clean = kickstarter_data.dropna()"
   ]
  },
  {
   "cell_type": "markdown",
   "id": "5bed6fd9",
   "metadata": {},
   "source": [
    "## Preparazione dei dati per l’addestramento e la validazione\n",
    "\n",
    "In questa sezione vengono preparati i dati per l’addestramento e la valutazione dei modelli predittivi.  \n",
    "Le operazioni principali sono:\n",
    "\n",
    "- Isolamento della variabile target (`state`) e delle variabili predittive.\n",
    "- Selezione dei soli progetti con esito \"successful\" o \"failed\" per una classificazione binaria.\n",
    "- Suddivisione del dataset in training set e test set per valutare le prestazioni del modello su dati non visti.\n",
    "- Applicazione di tecniche di preprocessing, come l’encoding delle variabili categoriche (one-hot encoding) e la gestione dell’eventuale sbilanciamento delle classi (oversampling o undersampling)."
   ]
  },
  {
   "cell_type": "code",
   "execution_count": 14,
   "id": "d2177d96",
   "metadata": {},
   "outputs": [],
   "source": [
    "features = [\n",
    "    'name', 'category', 'main_category', 'currency', 'country', 'goal', 'usd_goal_real',\n",
    "    'duration_days', 'launch_month', 'launch_year', 'deadline_month', 'deadline_year'\n",
    "]\n",
    "target = 'state'\n",
    "\n",
    "feature_set = kickstarter_data[features]\n",
    "target_set = kickstarter_data[target]\n",
    "\n",
    "mask = target_set.isin(['successful', 'failed'])\n",
    "feature_set_final = feature_set[mask]\n",
    "target_set_final = target_set[mask]"
   ]
  },
  {
   "cell_type": "code",
   "execution_count": 15,
   "id": "94880899",
   "metadata": {},
   "outputs": [
    {
     "name": "stdout",
     "output_type": "stream",
     "text": [
      "Training set: 265340 campioni\n",
      "Test set: 66335 campioni\n"
     ]
    }
   ],
   "source": [
    "from sklearn.model_selection import train_test_split\n",
    "\n",
    "X_train, X_test, y_train, y_test = train_test_split(\n",
    "    feature_set_final,\n",
    "    target_set_final,\n",
    "    test_size=0.2,\n",
    "    random_state=42,\n",
    "    stratify=target_set_final\n",
    ")\n",
    "\n",
    "print(f\"Training set: {X_train.shape[0]} campioni\")\n",
    "print(f\"Test set: {X_test.shape[0]} campioni\")"
   ]
  },
  {
   "cell_type": "markdown",
   "id": "e613708e",
   "metadata": {},
   "source": [
    "### Suddivisione del dataset in training set e test set\n",
    "\n",
    "Sono state utilizzate le variabili `feature_set_final` e `target_set_final` per la suddivisione del dataset in training set e test set per i seguenti motivi:\n",
    "\n",
    "1. **Feature selezionate (`feature_set_final`)**:\n",
    "    - Contiene solo le variabili predittive rilevanti per il modello, come `category`, `goal`, `usd_goal_real`, `duration_days`, ecc.\n",
    "    - Sono state escluse variabili non informative o non utilizzabili in fase predittiva, come `ID` o i risultati effettivi della campagna (`pledged`, `state`).\n",
    "    - Include solo progetti con esito \"successful\" o \"failed\", poiché l'obiettivo è una classificazione binaria.\n",
    "\n",
    "2. **Target (`target_set_final`)**:\n",
    "    - Contiene la variabile target `state`, limitata alle classi \"successful\" e \"failed\".\n",
    "    - Questo approccio semplifica il problema di classificazione, eliminando altre classi come \"canceled\" o \"live\", che non sono rilevanti allo scopo del progetto.\n",
    "\n",
    "3. **Suddivisione stratificata**:\n",
    "    - La suddivisione è stata effettuata con il parametro `stratify=target_set_final` per mantenere la stessa proporzione delle classi \"successful\" e \"failed\" sia nel training set che nel test set.\n",
    "    - Questo è importante per evitare sbilanciamenti tra le classi nei set di dati, che potrebbero influenzare negativamente le prestazioni del modello."
   ]
  },
  {
   "cell_type": "code",
   "execution_count": 16,
   "id": "f323ccb5",
   "metadata": {},
   "outputs": [],
   "source": [
    "from sklearn.compose import ColumnTransformer\n",
    "from sklearn.preprocessing import OneHotEncoder, StandardScaler\n",
    "from sklearn.feature_extraction.text import TfidfVectorizer\n",
    "from sklearn.linear_model import LogisticRegression\n",
    "from sklearn.utils import resample\n",
    "from sklearn.pipeline import Pipeline\n",
    "\n",
    "categorical_cols = [\"category\", \"main_category\", \"currency\", \"country\"]\n",
    "numeric_cols = [\"goal\", \"usd_goal_real\", \"duration_days\", \"launch_month\", \"launch_year\", \"deadline_month\", \"deadline_year\"]\n",
    "text_col = \"name\"\n",
    "\n",
    "# Undersampling per classi sbilanciate\n",
    "train_df = X_train.copy()\n",
    "train_df[\"state\"] = y_train.values\n",
    "min_class = train_df[\"state\"].value_counts().idxmin()\n",
    "n_min = train_df[\"state\"].value_counts().min()\n",
    "df_balanced = pd.concat([\n",
    "    train_df[train_df[\"state\"] == min_class],\n",
    "    resample(train_df[train_df[\"state\"] != min_class], replace=False, n_samples=n_min, random_state=42)\n",
    "])\n",
    "X_train_bal = df_balanced.drop(columns=\"state\")\n",
    "y_train_bal = df_balanced[\"state\"]\n",
    "\n",
    "preprocessor = ColumnTransformer([\n",
    "    (\"num\", StandardScaler(), numeric_cols),\n",
    "    (\"cat\", OneHotEncoder(handle_unknown=\"ignore\"), categorical_cols),\n",
    "    (\"txt\", TfidfVectorizer(max_features=100), text_col)\n",
    "])"
   ]
  },
  {
   "cell_type": "markdown",
   "id": "73890f5f",
   "metadata": {},
   "source": [
    "### Preprocessing e bilanciamento del dataset\n",
    "\n",
    "In questa sezione sono state svolte le seguenti operazioni:\n",
    "\n",
    "- **Selezione delle colonne**: sono state individuate le colonne numeriche (`goal`, `usd_goal_real`, `duration_days`, `launch_month`, `launch_year`, `deadline_month`, `deadline_year`), categoriche (`category`, `main_category`, `currency`, `country`) e testuale (`name`) che saranno utilizzate come feature predittive.\n",
    "- **Gestione dello sbilanciamento delle classi**: dato che la variabile target `state` è sbilanciata (molti più progetti falliti rispetto a quelli di successo), è stato applicato un undersampling della classe maggioritaria nel training set. In questo modo si ottiene un dataset bilanciato che permette al modello di apprendere in modo più equilibrato entrambe le classi.\n",
    "- **Definizione del preprocessing**: è stato creato un `ColumnTransformer` che applica:\n",
    "    - la standardizzazione (`StandardScaler`) alle variabili numeriche, per renderle confrontabili e facilitare la convergenza dei modelli;\n",
    "    - il one-hot encoding (`OneHotEncoder`) alle variabili categoriche, per trasformarle in un formato numerico utilizzabile dai modelli;\n",
    "    - la vettorizzazione TF-IDF (`TfidfVectorizer`) al nome del progetto, per estrarre informazioni utili dal testo e includerle tra le feature predittive."
   ]
  },
  {
   "cell_type": "code",
   "execution_count": 17,
   "id": "8ccaecdd",
   "metadata": {},
   "outputs": [
    {
     "name": "stdout",
     "output_type": "stream",
     "text": [
      "Regressione Logistica:\n",
      "              precision    recall  f1-score   support\n",
      "\n",
      "      failed       0.74      0.64      0.69     39544\n",
      "  successful       0.56      0.67      0.61     26791\n",
      "\n",
      "    accuracy                           0.65     66335\n",
      "   macro avg       0.65      0.66      0.65     66335\n",
      "weighted avg       0.67      0.65      0.66     66335\n",
      "\n",
      "Variabili più rilevanti (LogReg):\n",
      "usd_goal_real             -11.185402\n",
      "goal                       -2.104754\n",
      "category_Hip-Hop           -1.429899\n",
      "category_Web               -1.421640\n",
      "category_Video             -1.406868\n",
      "category_Apps              -1.402472\n",
      "category_Residencies        1.388172\n",
      "category_Tabletop Games     1.386177\n",
      "category_Photo             -1.363197\n",
      "category_Mobile Games      -1.324707\n",
      "dtype: float64\n"
     ]
    }
   ],
   "source": [
    "from sklearn.metrics import accuracy_score, precision_score, recall_score, f1_score, classification_report\n",
    "from sklearn.tree import DecisionTreeClassifier, plot_tree\n",
    "\n",
    "X_train_bal['name'] = X_train_bal['name'].fillna(\"\")\n",
    "X_test['name'] = X_test['name'].fillna(\"\")\n",
    "\n",
    "# Modello 1: Regressione Logistica\n",
    "logreg_pipeline = Pipeline([\n",
    "    (\"preproc\", preprocessor),\n",
    "    (\"clf\", LogisticRegression(max_iter=500, random_state=42))\n",
    "])\n",
    "logreg_pipeline.fit(X_train_bal, y_train_bal)\n",
    "y_pred_logreg = logreg_pipeline.predict(X_test)\n",
    "\n",
    "print(\"Regressione Logistica:\")\n",
    "print(classification_report(y_test, y_pred_logreg))\n",
    "\n",
    "feature_names = (\n",
    "    numeric_cols +\n",
    "    list(logreg_pipeline.named_steps[\"preproc\"].named_transformers_[\"cat\"].get_feature_names_out(categorical_cols)) +\n",
    "    list(logreg_pipeline.named_steps[\"preproc\"].named_transformers_[\"txt\"].get_feature_names_out())\n",
    ")\n",
    "coefs = logreg_pipeline.named_steps[\"clf\"].coef_[0]\n",
    "coef_df = pd.Series(coefs, index=feature_names).sort_values(key=abs, ascending=False)\n",
    "print(\"Variabili più rilevanti (LogReg):\")\n",
    "print(coef_df.head(10))"
   ]
  },
  {
   "cell_type": "code",
   "execution_count": 18,
   "id": "3d7cad21",
   "metadata": {},
   "outputs": [
    {
     "name": "stdout",
     "output_type": "stream",
     "text": [
      "\n",
      "Albero Decisionale:\n",
      "              precision    recall  f1-score   support\n",
      "\n",
      "      failed       0.70      0.60      0.65     39544\n",
      "  successful       0.51      0.63      0.56     26791\n",
      "\n",
      "    accuracy                           0.61     66335\n",
      "   macro avg       0.61      0.61      0.60     66335\n",
      "weighted avg       0.63      0.61      0.61     66335\n",
      "\n",
      "Variabili più rilevanti (Tree):\n",
      "usd_goal_real               0.539879\n",
      "goal                        0.132293\n",
      "category_Tabletop Games     0.109064\n",
      "deadline_year               0.070327\n",
      "duration_days               0.056289\n",
      "main_category_Music         0.042717\n",
      "category_Hip-Hop            0.026882\n",
      "main_category_Publishing    0.017092\n",
      "category_Video Games        0.002816\n",
      "launch_year                 0.002641\n",
      "dtype: float64\n"
     ]
    },
    {
     "data": {
      "image/png": "[encoded data removed]",
      "text/plain": [
       "<Figure size 1600x600 with 1 Axes>"
      ]
     },
     "metadata": {},
     "output_type": "display_data"
    }
   ],
   "source": [
    "# Modello 2: Albero Decisionale\n",
    "tree_pipeline = Pipeline([\n",
    "    (\"preproc\", preprocessor),\n",
    "    (\"clf\", DecisionTreeClassifier(max_depth=4, random_state=42))\n",
    "])\n",
    "tree_pipeline.fit(X_train_bal, y_train_bal)\n",
    "y_pred_tree = tree_pipeline.predict(X_test)\n",
    "\n",
    "print(\"\\nAlbero Decisionale:\")\n",
    "print(classification_report(y_test, y_pred_tree))\n",
    "\n",
    "# Analisi importanza variabili nell'albero\n",
    "importances = tree_pipeline.named_steps[\"clf\"].feature_importances_\n",
    "importances_df = pd.Series(importances, index=feature_names).sort_values(ascending=False)\n",
    "print(\"Variabili più rilevanti (Tree):\")\n",
    "print(importances_df.head(10))\n",
    "\n",
    "plt.figure(figsize=(16, 6))\n",
    "plot_tree(tree_pipeline.named_steps[\"clf\"], feature_names=feature_names, class_names=tree_pipeline.named_steps[\"clf\"].classes_.tolist(), max_depth=2, filled=True)\n",
    "plt.show()"
   ]
  },
  {
   "cell_type": "code",
   "execution_count": 19,
   "id": "8c6e87cb",
   "metadata": {},
   "outputs": [
    {
     "name": "stdout",
     "output_type": "stream",
     "text": [
      "\n",
      "Multi-layer Perceptron (MLP):\n",
      "              precision    recall  f1-score   support\n",
      "\n",
      "      failed       0.76      0.63      0.69     39544\n",
      "  successful       0.56      0.70      0.63     26791\n",
      "\n",
      "    accuracy                           0.66     66335\n",
      "   macro avg       0.66      0.67      0.66     66335\n",
      "weighted avg       0.68      0.66      0.66     66335\n",
      "\n",
      "Variabili più rilevanti (MLP - permutation importance):\n",
      "usd_goal_real           0.064545\n",
      "goal                    0.027067\n",
      "duration_days           0.026209\n",
      "category_3D Printing    0.012826\n",
      "category_Accessories    0.012123\n",
      "deadline_year           0.012123\n",
      "category_Animals        0.007655\n",
      "deadline_month          0.007536\n",
      "launch_month            0.004212\n",
      "launch_year             0.002774\n",
      "dtype: float64\n"
     ]
    }
   ],
   "source": [
    "from sklearn.neural_network import MLPClassifier\n",
    "from sklearn.inspection import permutation_importance\n",
    "\n",
    "# Modello 3: Multi-layer Perceptron (MLP)\n",
    "mlp_pipeline = Pipeline([\n",
    "    (\"preproc\", preprocessor),\n",
    "    (\"clf\", MLPClassifier(hidden_layer_sizes=(32, 8), activation=\"relu\", max_iter=200, random_state=42))\n",
    "])\n",
    "mlp_pipeline.fit(X_train_bal, y_train_bal)\n",
    "y_pred_mlp = mlp_pipeline.predict(X_test)\n",
    "\n",
    "print(\"\\nMulti-layer Perceptron (MLP):\")\n",
    "print(classification_report(y_test, y_pred_mlp))\n",
    "\n",
    "result = permutation_importance(\n",
    "    mlp_pipeline, X_test, y_test, n_repeats=10, random_state=42, n_jobs=-1\n",
    ")\n",
    "\n",
    "preprocessor = mlp_pipeline.named_steps[\"preproc\"]\n",
    "numeric_features = numeric_cols\n",
    "categorical_features = preprocessor.named_transformers_[\"cat\"].get_feature_names_out(categorical_cols)\n",
    "text_features = preprocessor.named_transformers_[\"txt\"].get_feature_names_out()\n",
    "\n",
    "used_feature_names = (\n",
    "    list(preprocessor.named_transformers_[\"num\"].feature_names_in_) +\n",
    "    list(preprocessor.named_transformers_[\"cat\"].get_feature_names_out(categorical_cols)) +\n",
    "    list(preprocessor.named_transformers_[\"txt\"].get_feature_names_out())\n",
    ")\n",
    "\n",
    "if len(result.importances_mean) != len(used_feature_names):\n",
    "    used_feature_names = used_feature_names[:len(result.importances_mean)]\n",
    "\n",
    "importances_mlp = pd.Series(result.importances_mean, index=used_feature_names).sort_values(ascending=False)\n",
    "\n",
    "print(\"Variabili più rilevanti (MLP - permutation importance):\")\n",
    "print(importances_mlp.head(10))"
   ]
  },
  {
   "cell_type": "markdown",
   "id": "0b04098a",
   "metadata": {},
   "source": [
    "### Confronto tra modelli\n",
    "\n",
    "Per il problema di classificazione binaria sono stati addestrati e confrontati tre modelli diversi:\n",
    "\n",
    "1. **Regressione Logistica**  \n",
    "   Un modello lineare che stima la probabilità di successo della campagna in base alle variabili disponibili. È semplice, interpretabile e fornisce una baseline robusta per problemi di classificazione.\n",
    "\n",
    "2. **Albero Decisionale**  \n",
    "   Un modello non lineare che apprende regole decisionali gerarchiche sulle feature per separare le classi. Permette di individuare facilmente le variabili più rilevanti tramite l’analisi della struttura dell’albero e delle importanze delle feature.\n",
    "\n",
    "3. **Multi-layer Perceptron (MLP)**  \n",
    "   Una rete neurale artificiale con due strati nascosti, in grado di apprendere relazioni complesse e non lineari tra le variabili. L’importanza delle feature è stata valutata tramite permutation importance, dato che i pesi interni non sono direttamente interpretabili.\n",
    "\n",
    "Per tutti i modelli è stato:\n",
    "- Applicato lo stesso preprocessing (standardizzazione delle variabili numeriche, one-hot encoding delle categoriche, vettorizzazione TF-IDF del testo).\n",
    "- Gestito lo sbilanciamento delle classi tramite undersampling.\n",
    "- Valutato le performance su un test set separato, utilizzando metriche di classificazione come accuracy, precision, recall e f1-score.\n",
    "- Analizzato le variabili più rilevanti per ciascun modello, per capire quali caratteristiche influenzano maggiormente la previsione del successo di una campagna Kickstarter."
   ]
  },
  {
   "cell_type": "code",
   "execution_count": null,
   "id": "3d5ccefc",
   "metadata": {},
   "outputs": [
    {
     "name": "stdout",
     "output_type": "stream",
     "text": [
      "Migliori iperparametri (LogisticRegression): {'clf__C': 10, 'clf__penalty': 'l2', 'clf__solver': 'lbfgs'}\n",
      "F1-score (validazione): 0.658890521803242\n"
     ]
    }
   ],
   "source": [
    "from sklearn.model_selection import GridSearchCV, RandomizedSearchCV\n",
    "from sklearn.linear_model import LogisticRegression\n",
    "\n",
    "# Pipeline per la regressione logistica\n",
    "logreg_pipeline = Pipeline([\n",
    "    (\"preproc\", preprocessor),\n",
    "    (\"clf\", LogisticRegression(max_iter=2000, random_state=42))\n",
    "])\n",
    "\n",
    "param_grid = {\n",
    "    \"clf__C\": [0.01, 0.1, 1, 10],\n",
    "    \"clf__penalty\": [\"l2\"],\n",
    "    \"clf__solver\": [\"lbfgs\", \"saga\"]\n",
    "}\n",
    "\n",
    "grid_search = GridSearchCV(logreg_pipeline, param_grid, cv=3, scoring=\"f1_macro\", n_jobs=-1)\n",
    "grid_search.fit(X_train_bal, y_train_bal)\n",
    "\n",
    "print(\"Migliori iperparametri (LogisticRegression):\", grid_search.best_params_)\n",
    "print(\"F1-score (validazione):\", grid_search.best_score_)"
   ]
  },
  {
   "cell_type": "code",
   "execution_count": 21,
   "id": "2e0c8bf9",
   "metadata": {},
   "outputs": [
    {
     "name": "stdout",
     "output_type": "stream",
     "text": [
      "Fitting 3 folds for each of 128 candidates, totalling 384 fits\n",
      "Migliori iperparametri (DecisionTree): {'clf__criterion': 'gini', 'clf__max_depth': 16, 'clf__min_samples_leaf': 1, 'clf__min_samples_split': 5}\n",
      "F1-score (validazione): 0.6565921115628823\n"
     ]
    }
   ],
   "source": [
    "# Pipeline per Random Forest (alternativa ensemble)\n",
    "tree_pipeline = Pipeline([\n",
    "    (\"preproc\", preprocessor),\n",
    "    (\"clf\", DecisionTreeClassifier(random_state=42))\n",
    "])\n",
    "\n",
    "param_grid_tree = {\n",
    "    \"clf__max_depth\": [2, 4, 8, 16],\n",
    "    \"clf__min_samples_split\": [2, 5, 10, 20],\n",
    "    \"clf__min_samples_leaf\": [1, 2, 5, 10],\n",
    "    \"clf__criterion\": [\"gini\", \"entropy\"]\n",
    "}\n",
    "\n",
    "tree_search = GridSearchCV(\n",
    "    tree_pipeline,\n",
    "    param_grid_tree,\n",
    "    cv=3,\n",
    "    scoring=\"f1_macro\",\n",
    "    n_jobs=-1,\n",
    "    verbose=2\n",
    ")\n",
    "tree_search.fit(X_train_bal, y_train_bal)\n",
    "\n",
    "print(\"Migliori iperparametri (DecisionTree):\", tree_search.best_params_)\n",
    "print(\"F1-score (validazione):\", tree_search.best_score_)"
   ]
  },
  {
   "cell_type": "code",
   "execution_count": 22,
   "id": "97d27b34",
   "metadata": {},
   "outputs": [
    {
     "name": "stdout",
     "output_type": "stream",
     "text": [
      "Fitting 2 folds for each of 8 candidates, totalling 16 fits\n"
     ]
    },
    {
     "name": "stderr",
     "output_type": "stream",
     "text": [
      "c:\\Users\\enric\\anaconda3\\Lib\\site-packages\\sklearn\\neural_network\\_multilayer_perceptron.py:691: ConvergenceWarning: Stochastic Optimizer: Maximum iterations (200) reached and the optimization hasn't converged yet.\n",
      "  warnings.warn(\n"
     ]
    },
    {
     "name": "stdout",
     "output_type": "stream",
     "text": [
      "[CV] END clf__activation=relu, clf__alpha=0.001, clf__hidden_layer_sizes=(64, 16), clf__learning_rate_init=0.001; total time= 2.1min\n"
     ]
    },
    {
     "name": "stderr",
     "output_type": "stream",
     "text": [
      "c:\\Users\\enric\\anaconda3\\Lib\\site-packages\\sklearn\\neural_network\\_multilayer_perceptron.py:691: ConvergenceWarning: Stochastic Optimizer: Maximum iterations (200) reached and the optimization hasn't converged yet.\n",
      "  warnings.warn(\n"
     ]
    },
    {
     "name": "stdout",
     "output_type": "stream",
     "text": [
      "[CV] END clf__activation=relu, clf__alpha=0.001, clf__hidden_layer_sizes=(64, 16), clf__learning_rate_init=0.001; total time= 2.1min\n"
     ]
    },
    {
     "name": "stderr",
     "output_type": "stream",
     "text": [
      "c:\\Users\\enric\\anaconda3\\Lib\\site-packages\\sklearn\\neural_network\\_multilayer_perceptron.py:691: ConvergenceWarning: Stochastic Optimizer: Maximum iterations (200) reached and the optimization hasn't converged yet.\n",
      "  warnings.warn(\n"
     ]
    },
    {
     "name": "stdout",
     "output_type": "stream",
     "text": [
      "[CV] END clf__activation=tanh, clf__alpha=0.0001, clf__hidden_layer_sizes=(32, 32), clf__learning_rate_init=0.001; total time= 1.8min\n"
     ]
    },
    {
     "name": "stderr",
     "output_type": "stream",
     "text": [
      "c:\\Users\\enric\\anaconda3\\Lib\\site-packages\\sklearn\\neural_network\\_multilayer_perceptron.py:691: ConvergenceWarning: Stochastic Optimizer: Maximum iterations (200) reached and the optimization hasn't converged yet.\n",
      "  warnings.warn(\n"
     ]
    },
    {
     "name": "stdout",
     "output_type": "stream",
     "text": [
      "[CV] END clf__activation=tanh, clf__alpha=0.0001, clf__hidden_layer_sizes=(32, 32), clf__learning_rate_init=0.001; total time= 1.8min\n"
     ]
    },
    {
     "name": "stderr",
     "output_type": "stream",
     "text": [
      "c:\\Users\\enric\\anaconda3\\Lib\\site-packages\\sklearn\\neural_network\\_multilayer_perceptron.py:691: ConvergenceWarning: Stochastic Optimizer: Maximum iterations (200) reached and the optimization hasn't converged yet.\n",
      "  warnings.warn(\n"
     ]
    },
    {
     "name": "stdout",
     "output_type": "stream",
     "text": [
      "[CV] END clf__activation=relu, clf__alpha=0.0001, clf__hidden_layer_sizes=(32, 8), clf__learning_rate_init=0.001; total time= 1.5min\n"
     ]
    },
    {
     "name": "stderr",
     "output_type": "stream",
     "text": [
      "c:\\Users\\enric\\anaconda3\\Lib\\site-packages\\sklearn\\neural_network\\_multilayer_perceptron.py:691: ConvergenceWarning: Stochastic Optimizer: Maximum iterations (200) reached and the optimization hasn't converged yet.\n",
      "  warnings.warn(\n"
     ]
    },
    {
     "name": "stdout",
     "output_type": "stream",
     "text": [
      "[CV] END clf__activation=relu, clf__alpha=0.0001, clf__hidden_layer_sizes=(32, 8), clf__learning_rate_init=0.001; total time= 1.5min\n"
     ]
    },
    {
     "name": "stderr",
     "output_type": "stream",
     "text": [
      "c:\\Users\\enric\\anaconda3\\Lib\\site-packages\\sklearn\\neural_network\\_multilayer_perceptron.py:691: ConvergenceWarning: Stochastic Optimizer: Maximum iterations (200) reached and the optimization hasn't converged yet.\n",
      "  warnings.warn(\n"
     ]
    },
    {
     "name": "stdout",
     "output_type": "stream",
     "text": [
      "[CV] END clf__activation=tanh, clf__alpha=0.001, clf__hidden_layer_sizes=(32, 8), clf__learning_rate_init=0.001; total time= 1.5min\n"
     ]
    },
    {
     "name": "stderr",
     "output_type": "stream",
     "text": [
      "c:\\Users\\enric\\anaconda3\\Lib\\site-packages\\sklearn\\neural_network\\_multilayer_perceptron.py:691: ConvergenceWarning: Stochastic Optimizer: Maximum iterations (200) reached and the optimization hasn't converged yet.\n",
      "  warnings.warn(\n"
     ]
    },
    {
     "name": "stdout",
     "output_type": "stream",
     "text": [
      "[CV] END clf__activation=tanh, clf__alpha=0.001, clf__hidden_layer_sizes=(32, 8), clf__learning_rate_init=0.001; total time= 1.5min\n",
      "[CV] END clf__activation=relu, clf__alpha=0.001, clf__hidden_layer_sizes=(32, 32), clf__learning_rate_init=0.01; total time= 1.2min\n",
      "[CV] END clf__activation=relu, clf__alpha=0.001, clf__hidden_layer_sizes=(32, 32), clf__learning_rate_init=0.01; total time= 1.6min\n",
      "[CV] END clf__activation=relu, clf__alpha=0.001, clf__hidden_layer_sizes=(64, 16), clf__learning_rate_init=0.01; total time= 2.8min\n",
      "[CV] END clf__activation=relu, clf__alpha=0.001, clf__hidden_layer_sizes=(64, 16), clf__learning_rate_init=0.01; total time= 2.7min\n",
      "[CV] END clf__activation=tanh, clf__alpha=0.0001, clf__hidden_layer_sizes=(32, 8), clf__learning_rate_init=0.01; total time= 1.1min\n",
      "[CV] END clf__activation=tanh, clf__alpha=0.0001, clf__hidden_layer_sizes=(32, 8), clf__learning_rate_init=0.01; total time= 1.0min\n",
      "[CV] END clf__activation=relu, clf__alpha=0.0001, clf__hidden_layer_sizes=(32, 8), clf__learning_rate_init=0.01; total time= 1.3min\n",
      "[CV] END clf__activation=relu, clf__alpha=0.0001, clf__hidden_layer_sizes=(32, 8), clf__learning_rate_init=0.01; total time= 1.1min\n",
      "Migliori iperparametri (MLP): {'clf__learning_rate_init': 0.001, 'clf__hidden_layer_sizes': (32, 8), 'clf__alpha': 0.0001, 'clf__activation': 'relu'}\n",
      "F1-score (validazione): 0.6524722111023795\n"
     ]
    }
   ],
   "source": [
    "mlp_pipeline = Pipeline([\n",
    "    (\"preproc\", preprocessor),\n",
    "    (\"clf\", MLPClassifier(max_iter=200, random_state=42))\n",
    "])\n",
    "\n",
    "param_dist = {\n",
    "    \"clf__hidden_layer_sizes\": [(32, 8), (64, 16), (32, 32)],\n",
    "    \"clf__activation\": [\"relu\", \"tanh\"],\n",
    "    \"clf__alpha\": [0.0001, 0.001],\n",
    "    \"clf__learning_rate_init\": [0.001, 0.01]\n",
    "}\n",
    "\n",
    "mlp_search = RandomizedSearchCV(\n",
    "    mlp_pipeline,\n",
    "    param_distributions=param_dist,\n",
    "    n_iter=8,\n",
    "    cv=2,\n",
    "    scoring=\"f1_macro\",\n",
    "    verbose=2,\n",
    "    random_state=42\n",
    ")\n",
    "mlp_search.fit(X_train_bal, y_train_bal)\n",
    "\n",
    "print(\"Migliori iperparametri (MLP):\", mlp_search.best_params_)\n",
    "print(\"F1-score (validazione):\", mlp_search.best_score_)"
   ]
  },
  {
   "cell_type": "code",
   "execution_count": null,
   "id": "4ed646e5",
   "metadata": {},
   "outputs": [
    {
     "name": "stdout",
     "output_type": "stream",
     "text": [
      "Nested CV F1-macro (Logistic Regression): 0.659 ± 0.001\n",
      "Nested CV F1-macro (Decision Tree): 0.656 ± 0.003\n"
     ]
    }
   ],
   "source": [
    "from sklearn.model_selection import cross_val_score, StratifiedKFold\n",
    "\n",
    "# Nested CV per Regressione Logistica\n",
    "param_grid_logreg = {\n",
    "    \"clf__C\": [0.01, 0.1, 1, 10],\n",
    "    \"clf__penalty\": [\"l2\"],\n",
    "    \"clf__solver\": [\"lbfgs\", \"saga\"]\n",
    "}\n",
    "logreg_pipeline = Pipeline([\n",
    "    (\"preproc\", preprocessor),\n",
    "    (\"clf\", LogisticRegression(max_iter=2000, random_state=42))\n",
    "])\n",
    "inner_cv = StratifiedKFold(n_splits=3, shuffle=True, random_state=42)\n",
    "outer_cv = StratifiedKFold(n_splits=5, shuffle=True, random_state=42)\n",
    "logreg_grid = GridSearchCV(logreg_pipeline, param_grid_logreg, cv=inner_cv, scoring=\"f1_macro\", n_jobs=-1)\n",
    "\n",
    "nested_scores_logreg = cross_val_score(logreg_grid, X_train_bal, y_train_bal, cv=outer_cv, scoring=\"f1_macro\", n_jobs=-1)\n",
    "print(\"Nested CV F1-macro (Logistic Regression): %.3f ± %.3f\" % (nested_scores_logreg.mean(), nested_scores_logreg.std()))\n",
    "\n",
    "# Nested CV per Decision Tree\n",
    "param_grid_tree = {\n",
    "    \"clf__max_depth\": [2, 4, 8, 16],\n",
    "    \"clf__min_samples_split\": [2, 5, 10, 20],\n",
    "    \"clf__min_samples_leaf\": [1, 2, 5, 10],\n",
    "    \"clf__criterion\": [\"gini\", \"entropy\"]\n",
    "}\n",
    "tree_pipeline = Pipeline([\n",
    "    (\"preproc\", preprocessor),\n",
    "    (\"clf\", DecisionTreeClassifier(random_state=42))\n",
    "])\n",
    "tree_grid = GridSearchCV(tree_pipeline, param_grid_tree, cv=inner_cv, scoring=\"f1_macro\", n_jobs=-1)\n",
    "\n",
    "nested_scores_tree = cross_val_score(tree_grid, X_train_bal, y_train_bal, cv=outer_cv, scoring=\"f1_macro\", n_jobs=-1)\n",
    "print(\"Nested CV F1-macro (Decision Tree): %.3f ± %.3f\" % (nested_scores_tree.mean(), nested_scores_tree.std()))"
   ]
  },
  {
   "cell_type": "markdown",
   "id": "0783e133",
   "metadata": {},
   "source": [
    "### Validazione annidata (Nested Cross Validation): discussione dei risultati\n",
    "\n",
    "La nested cross validation consente di ottenere una stima più affidabile delle performance dei modelli, riducendo il rischio di overfitting legato alla scelta degli iperparametri. Questa tecnica è stata applicata sia alla Regressione Logistica che all’Albero Decisionale.\n",
    "\n",
    "I risultati ottenuti sono i seguenti:\n",
    "\n",
    "- **Nested CV F1-macro (Logistic Regression):** 0.659 ± 0.001  \n",
    "- **Nested CV F1-macro (Decision Tree):** 0.656 ± 0.003  \n",
    "\n",
    "Questi valori indicano che entrambi i modelli presentano prestazioni molto simili in termini di F1-macro, con una variabilità estremamente bassa tra le diverse suddivisioni del dataset. La Regressione Logistica mostra una leggera superiorità, sebbene la differenza sia minima.\n",
    "\n",
    "In sintesi, la validazione annidata conferma la robustezza delle valutazioni effettuate e dimostra che i modelli selezionati sono in grado di generalizzare efficacemente anche su dati non visti."
   ]
  },
  {
   "cell_type": "code",
   "execution_count": 24,
   "id": "78401976",
   "metadata": {},
   "outputs": [
    {
     "name": "stdout",
     "output_type": "stream",
     "text": [
      "Regressione Logistica (ottimizzata):\n",
      "              precision    recall  f1-score   support\n",
      "\n",
      "      failed       0.74      0.64      0.69     39544\n",
      "  successful       0.56      0.67      0.61     26791\n",
      "\n",
      "    accuracy                           0.65     66335\n",
      "   macro avg       0.65      0.66      0.65     66335\n",
      "weighted avg       0.67      0.65      0.66     66335\n",
      "\n"
     ]
    }
   ],
   "source": [
    "# Regressione Logistica ottimizzata\n",
    "logreg_best = Pipeline([\n",
    "    (\"preproc\", preprocessor),\n",
    "    (\"clf\", LogisticRegression(\n",
    "        C=10,\n",
    "        penalty=\"l2\",\n",
    "        solver=\"lbfgs\",\n",
    "        max_iter=2000,\n",
    "        random_state=42\n",
    "    ))\n",
    "])\n",
    "logreg_best.fit(X_train_bal, y_train_bal)\n",
    "y_pred_logreg_best = logreg_best.predict(X_test)\n",
    "print(\"Regressione Logistica (ottimizzata):\")\n",
    "print(classification_report(y_test, y_pred_logreg_best))"
   ]
  },
  {
   "cell_type": "code",
   "execution_count": 25,
   "id": "a207595f",
   "metadata": {},
   "outputs": [
    {
     "name": "stdout",
     "output_type": "stream",
     "text": [
      "\n",
      "Albero Decisionale (ottimizzato):\n",
      "              precision    recall  f1-score   support\n",
      "\n",
      "      failed       0.74      0.65      0.69     39544\n",
      "  successful       0.56      0.66      0.61     26791\n",
      "\n",
      "    accuracy                           0.65     66335\n",
      "   macro avg       0.65      0.65      0.65     66335\n",
      "weighted avg       0.67      0.65      0.66     66335\n",
      "\n"
     ]
    }
   ],
   "source": [
    "# Albero Decisionale ottimizzato\n",
    "tree_best = Pipeline([\n",
    "    (\"preproc\", preprocessor),\n",
    "    (\"clf\", DecisionTreeClassifier(\n",
    "        criterion=\"gini\",\n",
    "        max_depth=16,\n",
    "        min_samples_leaf=1,\n",
    "        min_samples_split=5,\n",
    "        random_state=42\n",
    "    ))\n",
    "])\n",
    "tree_best.fit(X_train_bal, y_train_bal)\n",
    "y_pred_tree_best = tree_best.predict(X_test)\n",
    "print(\"\\nAlbero Decisionale (ottimizzato):\")\n",
    "print(classification_report(y_test, y_pred_tree_best))"
   ]
  },
  {
   "cell_type": "code",
   "execution_count": 26,
   "id": "44beaf06",
   "metadata": {},
   "outputs": [
    {
     "name": "stdout",
     "output_type": "stream",
     "text": [
      "\n",
      "Multi-layer Perceptron (MLP) ottimizzato:\n",
      "              precision    recall  f1-score   support\n",
      "\n",
      "      failed       0.76      0.63      0.69     39544\n",
      "  successful       0.56      0.70      0.63     26791\n",
      "\n",
      "    accuracy                           0.66     66335\n",
      "   macro avg       0.66      0.67      0.66     66335\n",
      "weighted avg       0.68      0.66      0.66     66335\n",
      "\n"
     ]
    }
   ],
   "source": [
    "# Multi-layer Perceptron ottimizzato\n",
    "mlp_best = Pipeline([\n",
    "    (\"preproc\", preprocessor),\n",
    "    (\"clf\", MLPClassifier(\n",
    "        hidden_layer_sizes=(32, 8),\n",
    "        activation=\"relu\",\n",
    "        alpha=0.0001,\n",
    "        learning_rate_init=0.001,\n",
    "        max_iter=200,\n",
    "        random_state=42\n",
    "    ))\n",
    "])\n",
    "mlp_best.fit(X_train_bal, y_train_bal)\n",
    "y_pred_mlp_best = mlp_best.predict(X_test)\n",
    "print(\"\\nMulti-layer Perceptron (MLP) ottimizzato:\")\n",
    "print(classification_report(y_test, y_pred_mlp_best))"
   ]
  },
  {
   "cell_type": "markdown",
   "id": "7fe1e5a8",
   "metadata": {},
   "source": [
    "### Confronto tra modelli: risultati finali e scelta del modello per la web app\n",
    "\n",
    "Dopo la ricerca degli iperparametri, i tre modelli sono stati riaddestrati e valutati sul test set. I risultati ottenuti sono i seguenti:\n",
    "\n",
    "- **Regressione Logistica (ottimizzata):**\n",
    "  - F1-score classe \"successful\": **0.61**\n",
    "  - Recall classe \"successful\": **0.67**\n",
    "  - Accuracy complessiva: **0.65**\n",
    "\n",
    "- **Albero Decisionale (ottimizzato):**\n",
    "  - F1-score classe \"successful\": **0.61**\n",
    "  - Recall classe \"successful\": **0.66**\n",
    "  - Accuracy complessiva: **0.65**\n",
    "\n",
    "- **Multi-layer Perceptron (MLP) ottimizzato:**\n",
    "  - F1-score classe \"successful\": **0.63**\n",
    "  - Recall classe \"successful\": **0.70**\n",
    "  - Accuracy complessiva: **0.66**\n",
    "\n",
    "Tutti i modelli mostrano prestazioni simili in termini di accuratezza e F1-score macro, ma il **Multi-layer Perceptron (MLP)** ottiene il valore più alto sia di F1-score che di recall sulla classe \"successful\", che rappresenta l'obiettivo principale della web app (identificare i progetti di successo).\n",
    "\n",
    "**Per questo motivo, il modello scelto per la web app è il Multi-layer Perceptron (MLP)**, in quanto garantisce una maggiore capacità di individuare i progetti potenzialmente vincenti, offrendo così un supporto più efficace agli utenti interessati a lanciare una campagna Kickstarter di successo."
   ]
  }
 ],
 "metadata": {
  "kernelspec": {
   "display_name": "base",
   "language": "python",
   "name": "python3"
  },
  "language_info": {
   "codemirror_mode": {
    "name": "ipython",
    "version": 3
   },
   "file_extension": ".py",
   "mimetype": "text/x-python",
   "name": "python",
   "nbconvert_exporter": "python",
   "pygments_lexer": "ipython3",
   "version": "3.11.5"
  }
 },
 "nbformat": 4,
 "nbformat_minor": 5
}
